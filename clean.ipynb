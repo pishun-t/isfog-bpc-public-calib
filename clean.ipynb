{
 "cells": [
  {
   "cell_type": "code",
   "execution_count": 1,
   "id": "6f93fdcb",
   "metadata": {},
   "outputs": [],
   "source": [
    "import numpy as np\n",
    "import pandas as pd\n",
    "import os"
   ]
  },
  {
   "cell_type": "markdown",
   "id": "b47d361e",
   "metadata": {},
   "source": [
    "# Clean lab mono Gnorm Ed data"
   ]
  },
  {
   "cell_type": "code",
   "execution_count": 2,
   "id": "71679d6d",
   "metadata": {},
   "outputs": [],
   "source": [
    "df = pd.read_csv(os.path.join('data', 'lab_mono_Gnorm_Ed.csv'))\n",
    "# split the data into N dataframes, every 2 columns\n",
    "new_dfs = {}\n",
    "# and save them to separate files\n",
    "for i in range(0, df.shape[1], 2):\n",
    "    # get the column names\n",
    "    col1 = df.columns[i]\n",
    "    col2 = df.columns[i + 1]\n",
    "    # create a new dataframe with the two columns\n",
    "    new_df = df[[col1, col2]]\n",
    "    test_id = new_df.columns[0].split(\"_\")[0]\n",
    "    new_df.columns = [\"Ed_prc\", \"Gtan/fe/fp\"]\n",
    "    new_dfs[test_id] = new_df"
   ]
  },
  {
   "cell_type": "code",
   "execution_count": 7,
   "id": "02d273af",
   "metadata": {},
   "outputs": [],
   "source": [
    "# stack the dataframes and add a new column with the test_id\n",
    "stacked_df = pd.concat(new_dfs.values(), keys=new_dfs.keys())\n",
    "stacked_df = stacked_df.reset_index(level=0)\n",
    "# drop nans\n",
    "stacked_df = stacked_df.dropna()\n",
    "# rename the columns\n",
    "stacked_df.columns = [\"test_id\", \"Ed_prc\", \"Gtan/fe/fp\"]\n",
    "# save the dataframe to a csv file\n",
    "stacked_df.to_csv(os.path.join('data', 'lab_mono_Gnorm_Ed_long.csv'), index=False)"
   ]
  },
  {
   "cell_type": "markdown",
   "id": "46d66bd9",
   "metadata": {},
   "source": [
    "# Clean raw CPT qc and fs data"
   ]
  },
  {
   "cell_type": "code",
   "execution_count": 23,
   "id": "07687aeb",
   "metadata": {},
   "outputs": [],
   "source": [
    "df = pd.read_csv(os.path.join('data', 'cpt_raw_data.csv'))\n",
    "# stack the data from second column onwards\n",
    "# use the first column as index\n",
    "df = df.set_index(df.columns[0])\n",
    "df = df.stack().reset_index()\n",
    "df = df.dropna()\n",
    "df.head()\n",
    "# split second column strings by \"_\"\n",
    "df['data_location_id'] = df.iloc[:, 1].str.split(\"_\").str[0]\n",
    "df['value_type'] = df.iloc[:, 1].str.split(\"_\").str[1]\n",
    "df['unit'] = df.iloc[:, 1].str.split(\"_\").str[2]\n",
    "# drop the second column\n",
    "df = df.drop(df.columns[1], axis=1)\n",
    "# rename the first 2 columns\n",
    "df.columns = [\"Depth_m\", \"value\", \"data_location_id\", \"value_type\", \"unit\"]\n",
    "# reorder the columns\n",
    "df = df[[\"data_location_id\", \"Depth_m\", \"value_type\", \"unit\", \"value\"]]\n",
    "# sort df by data_location_id, Depth_m then value_type\n",
    "df = df.sort_values(by=[\"data_location_id\", \"Depth_m\", \"value_type\"])\n",
    "# save the dataframe to a csv file\n",
    "df.to_csv(os.path.join('data', 'cpt_raw_data_long.csv'), index=False)"
   ]
  },
  {
   "cell_type": "markdown",
   "id": "104052bf",
   "metadata": {},
   "source": [
    "# Clean CPT correlations (static)"
   ]
  },
  {
   "cell_type": "code",
   "execution_count": 5,
   "id": "a8c97e0e",
   "metadata": {},
   "outputs": [],
   "source": [
    "df = pd.read_csv(os.path.join('data', 'cpt_corr_Gmax_examples_static.csv'))\n",
    "\n",
    "# stack the data from second column onwards\n",
    "# use the first column as index\n",
    "df = df.set_index(df.columns[0])\n",
    "df = df.stack().reset_index()\n",
    "# remove nan values\n",
    "df = df.dropna()\n",
    "# rename columns\n",
    "df.columns = ['Depth_m', 'Correlation_method', 'Gmax_MPa']\n",
    "# convert depth to float\n",
    "df['Depth_m'] = df['Depth_m'].astype(float)\n",
    "# convert Gmax to float\n",
    "df['Gmax_MPa'] = df['Gmax_MPa'].astype(float)\n",
    "# convert correlation method to string\n",
    "df['Correlation_method'] = df['Correlation_method'].astype(str)\n",
    "# remove leading and trailing spaces\n",
    "df['Correlation_method'] = df['Correlation_method'].str.strip()\n",
    "# write out to csv\n",
    "df.to_csv(os.path.join('data', 'cpt_corr_Gmax_examples_static_long.csv'), index=False)"
   ]
  }
 ],
 "metadata": {
  "kernelspec": {
   "display_name": "streamlitenv",
   "language": "python",
   "name": "python3"
  },
  "language_info": {
   "codemirror_mode": {
    "name": "ipython",
    "version": 3
   },
   "file_extension": ".py",
   "mimetype": "text/x-python",
   "name": "python",
   "nbconvert_exporter": "python",
   "pygments_lexer": "ipython3",
   "version": "3.11.12"
  }
 },
 "nbformat": 4,
 "nbformat_minor": 5
}
