{
 "cells": [
  {
   "cell_type": "code",
   "execution_count": 1,
   "id": "e2a01101",
   "metadata": {},
   "outputs": [],
   "source": [
    "from lib.insitu import fun_Gmax_with_depth\n",
    "import os\n",
    "import pandas as pd\n",
    "import plotly.express as px\n",
    "import numpy as np\n",
    "\n",
    "# constants\n",
    "pit_depth = 2.6 # metres\n",
    "depths = np.arange(0, pit_depth, 0.01)\n",
    "unit_weight = 17.34 # kN/m3\n",
    "void_ratio = 0.4877\n",
    "phi_cs = 32.7 # degrees\n",
    "\n",
    "# original \n",
    "K0 = 1 - np.sin(np.radians(phi_cs))\n",
    "Gref = 65 # MPa\n",
    "\n",
    "data_folder = r\"data\""
   ]
  },
  {
   "cell_type": "code",
   "execution_count": 2,
   "id": "8c34dc8d",
   "metadata": {},
   "outputs": [],
   "source": [
    "static_cpt_corr_Gmax = os.path.join(data_folder, \"cpt_corr_Gmax_examples_static_long.csv\")\n",
    "static_cpt_corr_Gmax_df = pd.read_csv(static_cpt_corr_Gmax)"
   ]
  },
  {
   "cell_type": "code",
   "execution_count": 3,
   "id": "10400f61",
   "metadata": {},
   "outputs": [
    {
     "data": {
      "application/vnd.microsoft.datawrangler.viewer.v0+json": {
       "columns": [
        {
         "name": "index",
         "rawType": "int64",
         "type": "integer"
        },
        {
         "name": "Depth_m",
         "rawType": "float64",
         "type": "float"
        },
        {
         "name": "Correlation_method",
         "rawType": "object",
         "type": "string"
        },
        {
         "name": "Gmax_MPa",
         "rawType": "float64",
         "type": "float"
        }
       ],
       "conversionMethod": "pd.DataFrame",
       "ref": "9f791ddb-b6df-42a5-9a9b-10b044300456",
       "rows": [
        [
         "0",
         "0.01",
         "Hegazy & Mayne (1995) - 1",
         "0.271895201"
        ],
        [
         "1",
         "0.01",
         "Baldi et al. (1989) Ticino sand OCR=1",
         "0.792277077"
        ],
        [
         "2",
         "0.01",
         "Baldi et al. (1989) Ticino sand OCR=10",
         "0.962648295"
        ],
        [
         "3",
         "0.01",
         "Rix & Stokoe (1991) - average",
         "1.177116357"
        ],
        [
         "4",
         "0.01",
         "Rix & Stokoe (1991) - upper bound",
         "1.765674535"
        ]
       ],
       "shape": {
        "columns": 3,
        "rows": 5
       }
      },
      "text/html": [
       "<div>\n",
       "<style scoped>\n",
       "    .dataframe tbody tr th:only-of-type {\n",
       "        vertical-align: middle;\n",
       "    }\n",
       "\n",
       "    .dataframe tbody tr th {\n",
       "        vertical-align: top;\n",
       "    }\n",
       "\n",
       "    .dataframe thead th {\n",
       "        text-align: right;\n",
       "    }\n",
       "</style>\n",
       "<table border=\"1\" class=\"dataframe\">\n",
       "  <thead>\n",
       "    <tr style=\"text-align: right;\">\n",
       "      <th></th>\n",
       "      <th>Depth_m</th>\n",
       "      <th>Correlation_method</th>\n",
       "      <th>Gmax_MPa</th>\n",
       "    </tr>\n",
       "  </thead>\n",
       "  <tbody>\n",
       "    <tr>\n",
       "      <th>0</th>\n",
       "      <td>0.01</td>\n",
       "      <td>Hegazy &amp; Mayne (1995) - 1</td>\n",
       "      <td>0.271895</td>\n",
       "    </tr>\n",
       "    <tr>\n",
       "      <th>1</th>\n",
       "      <td>0.01</td>\n",
       "      <td>Baldi et al. (1989) Ticino sand OCR=1</td>\n",
       "      <td>0.792277</td>\n",
       "    </tr>\n",
       "    <tr>\n",
       "      <th>2</th>\n",
       "      <td>0.01</td>\n",
       "      <td>Baldi et al. (1989) Ticino sand OCR=10</td>\n",
       "      <td>0.962648</td>\n",
       "    </tr>\n",
       "    <tr>\n",
       "      <th>3</th>\n",
       "      <td>0.01</td>\n",
       "      <td>Rix &amp; Stokoe (1991) - average</td>\n",
       "      <td>1.177116</td>\n",
       "    </tr>\n",
       "    <tr>\n",
       "      <th>4</th>\n",
       "      <td>0.01</td>\n",
       "      <td>Rix &amp; Stokoe (1991) - upper bound</td>\n",
       "      <td>1.765675</td>\n",
       "    </tr>\n",
       "  </tbody>\n",
       "</table>\n",
       "</div>"
      ],
      "text/plain": [
       "   Depth_m                      Correlation_method  Gmax_MPa\n",
       "0     0.01               Hegazy & Mayne (1995) - 1  0.271895\n",
       "1     0.01   Baldi et al. (1989) Ticino sand OCR=1  0.792277\n",
       "2     0.01  Baldi et al. (1989) Ticino sand OCR=10  0.962648\n",
       "3     0.01           Rix & Stokoe (1991) - average  1.177116\n",
       "4     0.01       Rix & Stokoe (1991) - upper bound  1.765675"
      ]
     },
     "execution_count": 3,
     "metadata": {},
     "output_type": "execute_result"
    }
   ],
   "source": [
    "static_cpt_corr_Gmax_df.head()"
   ]
  },
  {
   "cell_type": "code",
   "execution_count": 4,
   "id": "7eec7d4f",
   "metadata": {},
   "outputs": [],
   "source": [
    "# calc data needed to plot\n",
    "depths = np.linspace(0, pit_depth, 100)\n",
    "Gmax_with_depth = fun_Gmax_with_depth(depths, void_ratio, Gref, K0, unit_weight)"
   ]
  },
  {
   "cell_type": "code",
   "execution_count": 5,
   "id": "182eb0f5",
   "metadata": {},
   "outputs": [
    {
     "data": {
      "application/vnd.plotly.v1+json": {
       "config": {
        "plotlyServerURL": "https://plot.ly"
       },
       "data": [
        {
         "hovertemplate": "Gmax (MPa)=%{x}<br>Depth (m)=%{y}<extra></extra>",
         "legendgroup": "",
         "line": {
          "color": "#636efa",
          "dash": "solid"
         },
         "marker": {
          "symbol": "circle"
         },
         "mode": "lines",
         "name": "",
         "orientation": "v",
         "showlegend": false,
         "type": "scatter",
         "x": {
          "bdata": "AAAAAAAAAACYrRAi7rIaQAESEocG4SJAsJ0mIzkfJ0CYrRAi7rIqQD4WIy2v2S1ATOAT2oVZMECNvrmi4agxQAESEocG4TJAMoKMmTIGNECuS1edfBs1QKcWqIg5IzZAsJ0mIzkfN0C2+bE+7BA4QEzb7+R9+ThAlcIOieTZOUCYrRAi7rI6QIpvduhIhTtAAhubyolRPEBoqahIMRg9QD4WIy2v2T1AXShfcWWWPkCibuaEqk4/QON/V49lAUBATOAT2oVZQEB+bErV1K9AQEfs9yhuBEFARPZc2mpXQUCNvrmi4ahBQDiuNTjn+EFA0yWNi45HQkAocpD86JRCQAESEocG4UJAJd+O6fUrQ0By/ZnGxHVDQK7x48F/vkNAMoKMmTIGRECqfk886ExEQAJiA92qkkRA7YbMA4TXRECuS1edfBtFQHoyXgidXkVAtSi2Ie2gRUAcKxJPdOJFQKcWqIg5I0ZArlDaYUNjRkCw0AQRmKJGQN/Kh3Y94UZAsJ0mIzkfR0Dll85dkFxHQICW1ihImUdACEfGRmXVR0C2+bE+7BBIQNFTNmDhS0hActAdx0iGSECCzbheJsBIQEzb7+R9+UhAwSAX7VIySUBJ4IjiqGpJQCR8DAuDoklAlcIOieTZSUDfxa9d0BBKQDUQqmpJR0pA1Z0WdFJ9SkCYrRAi7rJKQPcoPAIf6EpANh4xieccS0Alic4TSlFLQIpvduhIhUtAFyU1OOa4S0DBXtUfJOxLQDWW4qgEH0xAAhubyolRTECAD9NqtYNMQIBzyV6JtUxAG0XwawfnTEBoqahIMRhNQBr685wISU1AdIIaA495TUBEpUgIxqlNQD4WIy2v2U1ASsNS5ksJTkD2/QidnThOQJBpfK+lZ05AXShfcWWWTkDAuE4s3sROQIfqPSAR805A+UzZg/8gT0CibuaEqk5PQLFBnkgTfE9AhvEC7DqpT0BrcDGEItZPQON/V49lAVBA73fZ4JoXUEBFaDa2sS1QQPajo4uqQ1BATOAT2oVZUEDSjlUXRG9QQMHPL7blhFBA/hB+JmuaUEA=",
          "dtype": "f8"
         },
         "xaxis": "x",
         "y": {
          "bdata": "AAAAAAAAAACQxZ4Dl+SaP5DFngOX5Ko/LBS3QnErtD+QxZ4Dl+S6P3o7Q2LezsA/LBS3QnErxD/e7CojBIjHP5DFngOX5Mo/Qp4S5ClBzj96O0Ni3s7QP9MnfdInfdI/LBS3QnEr1D+FAPGyutnVP97sKiMEiNc/N9lkk0022T+QxZ4Dl+TaP+mx2HPgktw/Qp4S5ClB3j+bikxUc+/fP3o7Q2LezuA/pjFgGgOm4T/TJ33SJ33iPwAemopMVOM/LBS3QnEr5D9YCtT6lQLlP4UA8bK62eU/svYNa9+w5j/e7CojBIjnPwrjR9soX+g/N9lkk0026T9kz4FLcg3qP5DFngOX5Oo/vLu7u7u76z/psdhz4JLsPxao9SsFau0/Qp4S5ClB7j9ulC+cThjvP5uKTFRz7+8/ZMA0Bkxj8D96O0Ni3s7wP5C2Ub5wOvE/pjFgGgOm8T+9rG52lRHyP9MnfdInffI/6aKLLrro8j8AHpqKTFTzPxaZqObev/M/LBS3QnEr9D9Cj8WeA5f0P1gK1PqVAvU/b4XiVihu9T+FAPGyutn1P5t7/w5NRfY/svYNa9+w9j/IcRzHcRz3P97sKiMEiPc/9Gc5f5bz9z8K40fbKF/4PyFeVje7yvg/N9lkk002+T9NVHPv36H5P2TPgUtyDfo/ekqQpwR5+j+QxZ4Dl+T6P6ZArV8pUPs/vLu7u7u7+z/TNsoXTif8P+mx2HPgkvw//yznz3L+/D8WqPUrBWr9PywjBIiX1f0/Qp4S5ClB/j9YGSFAvKz+P26UL5xOGP8/hQ8++OCD/z+bikxUc+//P9mCLdiCLQBAZMA0BkxjAEDv/Ts0FZkAQHo7Q2LezgBABXlKkKcEAUCQtlG+cDoBQBv0WOw5cAFApjFgGgOmAUAyb2dIzNsBQL2sbnaVEQJASOp1pF5HAkDTJ33SJ30CQF5lhADxsgJA6aKLLrroAkB04JJcgx4DQAAemopMVANAi1uhuBWKA0AWmajm3r8DQKHWrxSo9QNALBS3QnErBEC3Ub5wOmEEQEKPxZ4DlwRAzczMzMzMBEA=",
          "dtype": "f8"
         },
         "yaxis": "y"
        }
       ],
       "layout": {
        "legend": {
         "tracegroupgap": 0
        },
        "margin": {
         "t": 60
        },
        "template": {
         "data": {
          "bar": [
           {
            "error_x": {
             "color": "#2a3f5f"
            },
            "error_y": {
             "color": "#2a3f5f"
            },
            "marker": {
             "line": {
              "color": "#E5ECF6",
              "width": 0.5
             },
             "pattern": {
              "fillmode": "overlay",
              "size": 10,
              "solidity": 0.2
             }
            },
            "type": "bar"
           }
          ],
          "barpolar": [
           {
            "marker": {
             "line": {
              "color": "#E5ECF6",
              "width": 0.5
             },
             "pattern": {
              "fillmode": "overlay",
              "size": 10,
              "solidity": 0.2
             }
            },
            "type": "barpolar"
           }
          ],
          "carpet": [
           {
            "aaxis": {
             "endlinecolor": "#2a3f5f",
             "gridcolor": "white",
             "linecolor": "white",
             "minorgridcolor": "white",
             "startlinecolor": "#2a3f5f"
            },
            "baxis": {
             "endlinecolor": "#2a3f5f",
             "gridcolor": "white",
             "linecolor": "white",
             "minorgridcolor": "white",
             "startlinecolor": "#2a3f5f"
            },
            "type": "carpet"
           }
          ],
          "choropleth": [
           {
            "colorbar": {
             "outlinewidth": 0,
             "ticks": ""
            },
            "type": "choropleth"
           }
          ],
          "contour": [
           {
            "colorbar": {
             "outlinewidth": 0,
             "ticks": ""
            },
            "colorscale": [
             [
              0,
              "#0d0887"
             ],
             [
              0.1111111111111111,
              "#46039f"
             ],
             [
              0.2222222222222222,
              "#7201a8"
             ],
             [
              0.3333333333333333,
              "#9c179e"
             ],
             [
              0.4444444444444444,
              "#bd3786"
             ],
             [
              0.5555555555555556,
              "#d8576b"
             ],
             [
              0.6666666666666666,
              "#ed7953"
             ],
             [
              0.7777777777777778,
              "#fb9f3a"
             ],
             [
              0.8888888888888888,
              "#fdca26"
             ],
             [
              1,
              "#f0f921"
             ]
            ],
            "type": "contour"
           }
          ],
          "contourcarpet": [
           {
            "colorbar": {
             "outlinewidth": 0,
             "ticks": ""
            },
            "type": "contourcarpet"
           }
          ],
          "heatmap": [
           {
            "colorbar": {
             "outlinewidth": 0,
             "ticks": ""
            },
            "colorscale": [
             [
              0,
              "#0d0887"
             ],
             [
              0.1111111111111111,
              "#46039f"
             ],
             [
              0.2222222222222222,
              "#7201a8"
             ],
             [
              0.3333333333333333,
              "#9c179e"
             ],
             [
              0.4444444444444444,
              "#bd3786"
             ],
             [
              0.5555555555555556,
              "#d8576b"
             ],
             [
              0.6666666666666666,
              "#ed7953"
             ],
             [
              0.7777777777777778,
              "#fb9f3a"
             ],
             [
              0.8888888888888888,
              "#fdca26"
             ],
             [
              1,
              "#f0f921"
             ]
            ],
            "type": "heatmap"
           }
          ],
          "histogram": [
           {
            "marker": {
             "pattern": {
              "fillmode": "overlay",
              "size": 10,
              "solidity": 0.2
             }
            },
            "type": "histogram"
           }
          ],
          "histogram2d": [
           {
            "colorbar": {
             "outlinewidth": 0,
             "ticks": ""
            },
            "colorscale": [
             [
              0,
              "#0d0887"
             ],
             [
              0.1111111111111111,
              "#46039f"
             ],
             [
              0.2222222222222222,
              "#7201a8"
             ],
             [
              0.3333333333333333,
              "#9c179e"
             ],
             [
              0.4444444444444444,
              "#bd3786"
             ],
             [
              0.5555555555555556,
              "#d8576b"
             ],
             [
              0.6666666666666666,
              "#ed7953"
             ],
             [
              0.7777777777777778,
              "#fb9f3a"
             ],
             [
              0.8888888888888888,
              "#fdca26"
             ],
             [
              1,
              "#f0f921"
             ]
            ],
            "type": "histogram2d"
           }
          ],
          "histogram2dcontour": [
           {
            "colorbar": {
             "outlinewidth": 0,
             "ticks": ""
            },
            "colorscale": [
             [
              0,
              "#0d0887"
             ],
             [
              0.1111111111111111,
              "#46039f"
             ],
             [
              0.2222222222222222,
              "#7201a8"
             ],
             [
              0.3333333333333333,
              "#9c179e"
             ],
             [
              0.4444444444444444,
              "#bd3786"
             ],
             [
              0.5555555555555556,
              "#d8576b"
             ],
             [
              0.6666666666666666,
              "#ed7953"
             ],
             [
              0.7777777777777778,
              "#fb9f3a"
             ],
             [
              0.8888888888888888,
              "#fdca26"
             ],
             [
              1,
              "#f0f921"
             ]
            ],
            "type": "histogram2dcontour"
           }
          ],
          "mesh3d": [
           {
            "colorbar": {
             "outlinewidth": 0,
             "ticks": ""
            },
            "type": "mesh3d"
           }
          ],
          "parcoords": [
           {
            "line": {
             "colorbar": {
              "outlinewidth": 0,
              "ticks": ""
             }
            },
            "type": "parcoords"
           }
          ],
          "pie": [
           {
            "automargin": true,
            "type": "pie"
           }
          ],
          "scatter": [
           {
            "fillpattern": {
             "fillmode": "overlay",
             "size": 10,
             "solidity": 0.2
            },
            "type": "scatter"
           }
          ],
          "scatter3d": [
           {
            "line": {
             "colorbar": {
              "outlinewidth": 0,
              "ticks": ""
             }
            },
            "marker": {
             "colorbar": {
              "outlinewidth": 0,
              "ticks": ""
             }
            },
            "type": "scatter3d"
           }
          ],
          "scattercarpet": [
           {
            "marker": {
             "colorbar": {
              "outlinewidth": 0,
              "ticks": ""
             }
            },
            "type": "scattercarpet"
           }
          ],
          "scattergeo": [
           {
            "marker": {
             "colorbar": {
              "outlinewidth": 0,
              "ticks": ""
             }
            },
            "type": "scattergeo"
           }
          ],
          "scattergl": [
           {
            "marker": {
             "colorbar": {
              "outlinewidth": 0,
              "ticks": ""
             }
            },
            "type": "scattergl"
           }
          ],
          "scattermap": [
           {
            "marker": {
             "colorbar": {
              "outlinewidth": 0,
              "ticks": ""
             }
            },
            "type": "scattermap"
           }
          ],
          "scattermapbox": [
           {
            "marker": {
             "colorbar": {
              "outlinewidth": 0,
              "ticks": ""
             }
            },
            "type": "scattermapbox"
           }
          ],
          "scatterpolar": [
           {
            "marker": {
             "colorbar": {
              "outlinewidth": 0,
              "ticks": ""
             }
            },
            "type": "scatterpolar"
           }
          ],
          "scatterpolargl": [
           {
            "marker": {
             "colorbar": {
              "outlinewidth": 0,
              "ticks": ""
             }
            },
            "type": "scatterpolargl"
           }
          ],
          "scatterternary": [
           {
            "marker": {
             "colorbar": {
              "outlinewidth": 0,
              "ticks": ""
             }
            },
            "type": "scatterternary"
           }
          ],
          "surface": [
           {
            "colorbar": {
             "outlinewidth": 0,
             "ticks": ""
            },
            "colorscale": [
             [
              0,
              "#0d0887"
             ],
             [
              0.1111111111111111,
              "#46039f"
             ],
             [
              0.2222222222222222,
              "#7201a8"
             ],
             [
              0.3333333333333333,
              "#9c179e"
             ],
             [
              0.4444444444444444,
              "#bd3786"
             ],
             [
              0.5555555555555556,
              "#d8576b"
             ],
             [
              0.6666666666666666,
              "#ed7953"
             ],
             [
              0.7777777777777778,
              "#fb9f3a"
             ],
             [
              0.8888888888888888,
              "#fdca26"
             ],
             [
              1,
              "#f0f921"
             ]
            ],
            "type": "surface"
           }
          ],
          "table": [
           {
            "cells": {
             "fill": {
              "color": "#EBF0F8"
             },
             "line": {
              "color": "white"
             }
            },
            "header": {
             "fill": {
              "color": "#C8D4E3"
             },
             "line": {
              "color": "white"
             }
            },
            "type": "table"
           }
          ]
         },
         "layout": {
          "annotationdefaults": {
           "arrowcolor": "#2a3f5f",
           "arrowhead": 0,
           "arrowwidth": 1
          },
          "autotypenumbers": "strict",
          "coloraxis": {
           "colorbar": {
            "outlinewidth": 0,
            "ticks": ""
           }
          },
          "colorscale": {
           "diverging": [
            [
             0,
             "#8e0152"
            ],
            [
             0.1,
             "#c51b7d"
            ],
            [
             0.2,
             "#de77ae"
            ],
            [
             0.3,
             "#f1b6da"
            ],
            [
             0.4,
             "#fde0ef"
            ],
            [
             0.5,
             "#f7f7f7"
            ],
            [
             0.6,
             "#e6f5d0"
            ],
            [
             0.7,
             "#b8e186"
            ],
            [
             0.8,
             "#7fbc41"
            ],
            [
             0.9,
             "#4d9221"
            ],
            [
             1,
             "#276419"
            ]
           ],
           "sequential": [
            [
             0,
             "#0d0887"
            ],
            [
             0.1111111111111111,
             "#46039f"
            ],
            [
             0.2222222222222222,
             "#7201a8"
            ],
            [
             0.3333333333333333,
             "#9c179e"
            ],
            [
             0.4444444444444444,
             "#bd3786"
            ],
            [
             0.5555555555555556,
             "#d8576b"
            ],
            [
             0.6666666666666666,
             "#ed7953"
            ],
            [
             0.7777777777777778,
             "#fb9f3a"
            ],
            [
             0.8888888888888888,
             "#fdca26"
            ],
            [
             1,
             "#f0f921"
            ]
           ],
           "sequentialminus": [
            [
             0,
             "#0d0887"
            ],
            [
             0.1111111111111111,
             "#46039f"
            ],
            [
             0.2222222222222222,
             "#7201a8"
            ],
            [
             0.3333333333333333,
             "#9c179e"
            ],
            [
             0.4444444444444444,
             "#bd3786"
            ],
            [
             0.5555555555555556,
             "#d8576b"
            ],
            [
             0.6666666666666666,
             "#ed7953"
            ],
            [
             0.7777777777777778,
             "#fb9f3a"
            ],
            [
             0.8888888888888888,
             "#fdca26"
            ],
            [
             1,
             "#f0f921"
            ]
           ]
          },
          "colorway": [
           "#636efa",
           "#EF553B",
           "#00cc96",
           "#ab63fa",
           "#FFA15A",
           "#19d3f3",
           "#FF6692",
           "#B6E880",
           "#FF97FF",
           "#FECB52"
          ],
          "font": {
           "color": "#2a3f5f"
          },
          "geo": {
           "bgcolor": "white",
           "lakecolor": "white",
           "landcolor": "#E5ECF6",
           "showlakes": true,
           "showland": true,
           "subunitcolor": "white"
          },
          "hoverlabel": {
           "align": "left"
          },
          "hovermode": "closest",
          "mapbox": {
           "style": "light"
          },
          "paper_bgcolor": "white",
          "plot_bgcolor": "#E5ECF6",
          "polar": {
           "angularaxis": {
            "gridcolor": "white",
            "linecolor": "white",
            "ticks": ""
           },
           "bgcolor": "#E5ECF6",
           "radialaxis": {
            "gridcolor": "white",
            "linecolor": "white",
            "ticks": ""
           }
          },
          "scene": {
           "xaxis": {
            "backgroundcolor": "#E5ECF6",
            "gridcolor": "white",
            "gridwidth": 2,
            "linecolor": "white",
            "showbackground": true,
            "ticks": "",
            "zerolinecolor": "white"
           },
           "yaxis": {
            "backgroundcolor": "#E5ECF6",
            "gridcolor": "white",
            "gridwidth": 2,
            "linecolor": "white",
            "showbackground": true,
            "ticks": "",
            "zerolinecolor": "white"
           },
           "zaxis": {
            "backgroundcolor": "#E5ECF6",
            "gridcolor": "white",
            "gridwidth": 2,
            "linecolor": "white",
            "showbackground": true,
            "ticks": "",
            "zerolinecolor": "white"
           }
          },
          "shapedefaults": {
           "line": {
            "color": "#2a3f5f"
           }
          },
          "ternary": {
           "aaxis": {
            "gridcolor": "white",
            "linecolor": "white",
            "ticks": ""
           },
           "baxis": {
            "gridcolor": "white",
            "linecolor": "white",
            "ticks": ""
           },
           "bgcolor": "#E5ECF6",
           "caxis": {
            "gridcolor": "white",
            "linecolor": "white",
            "ticks": ""
           }
          },
          "title": {
           "x": 0.05
          },
          "xaxis": {
           "automargin": true,
           "gridcolor": "white",
           "linecolor": "white",
           "ticks": "",
           "title": {
            "standoff": 15
           },
           "zerolinecolor": "white",
           "zerolinewidth": 2
          },
          "yaxis": {
           "automargin": true,
           "gridcolor": "white",
           "linecolor": "white",
           "ticks": "",
           "title": {
            "standoff": 15
           },
           "zerolinecolor": "white",
           "zerolinewidth": 2
          }
         }
        },
        "title": {
         "text": "Gmax with depth"
        },
        "xaxis": {
         "anchor": "y",
         "domain": [
          0,
          1
         ],
         "title": {
          "standoff": 0,
          "text": "Gmax (MPa)"
         }
        },
        "yaxis": {
         "anchor": "x",
         "autorange": "reversed",
         "domain": [
          0,
          1
         ],
         "title": {
          "text": "Depth (m)"
         }
        }
       }
      }
     },
     "metadata": {},
     "output_type": "display_data"
    }
   ],
   "source": [
    "fig = px.line(x=Gmax_with_depth, y=depths, labels={'x': 'Gmax (MPa)', 'y': 'Depth (m)'})\n",
    "\n",
    "fig.update_layout(title='Gmax with depth', yaxis_title='Depth (m)', xaxis_title='Gmax (MPa)')\n",
    "# move xaxis label to the top\n",
    "fig.update_xaxes(title_standoff=0)\n",
    "# inverse y axis\n",
    "fig.update_yaxes(autorange=\"reversed\")"
   ]
  }
 ],
 "metadata": {
  "kernelspec": {
   "display_name": "streamlitenv",
   "language": "python",
   "name": "python3"
  },
  "language_info": {
   "codemirror_mode": {
    "name": "ipython",
    "version": 3
   },
   "file_extension": ".py",
   "mimetype": "text/x-python",
   "name": "python",
   "nbconvert_exporter": "python",
   "pygments_lexer": "ipython3",
   "version": "3.11.12"
  }
 },
 "nbformat": 4,
 "nbformat_minor": 5
}
